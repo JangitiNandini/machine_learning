{
 "cells": [
  {
   "cell_type": "markdown",
   "id": "7e3dfc54",
   "metadata": {
    "papermill": {
     "duration": 0.010826,
     "end_time": "2023-11-22T10:58:11.280318",
     "exception": false,
     "start_time": "2023-11-22T10:58:11.269492",
     "status": "completed"
    },
    "tags": []
   },
   "source": [
    "**This notebook is an exercise in the [Pandas](https://www.kaggle.com/learn/pandas) course.  You can reference the tutorial at [this link](https://www.kaggle.com/residentmario/summary-functions-and-maps).**\n",
    "\n",
    "---\n"
   ]
  },
  {
   "cell_type": "markdown",
   "id": "d4a45b52",
   "metadata": {
    "papermill": {
     "duration": 0.007967,
     "end_time": "2023-11-22T10:58:11.296669",
     "exception": false,
     "start_time": "2023-11-22T10:58:11.288702",
     "status": "completed"
    },
    "tags": []
   },
   "source": [
    "# Introduction\n",
    "\n",
    "Now you are ready to get a deeper understanding of your data.\n",
    "\n",
    "Run the following cell to load your data and some utility functions (including code to check your answers)."
   ]
  },
  {
   "cell_type": "code",
   "execution_count": 1,
   "id": "7db9d941",
   "metadata": {
    "execution": {
     "iopub.execute_input": "2023-11-22T10:58:11.315972Z",
     "iopub.status.busy": "2023-11-22T10:58:11.315430Z",
     "iopub.status.idle": "2023-11-22T10:58:20.369054Z",
     "shell.execute_reply": "2023-11-22T10:58:20.367716Z"
    },
    "papermill": {
     "duration": 9.066161,
     "end_time": "2023-11-22T10:58:20.371579",
     "exception": false,
     "start_time": "2023-11-22T10:58:11.305418",
     "status": "completed"
    },
    "tags": []
   },
   "outputs": [
    {
     "name": "stdout",
     "output_type": "stream",
     "text": [
      "Setup complete.\n"
     ]
    },
    {
     "data": {
      "text/html": [
       "<div>\n",
       "<style scoped>\n",
       "    .dataframe tbody tr th:only-of-type {\n",
       "        vertical-align: middle;\n",
       "    }\n",
       "\n",
       "    .dataframe tbody tr th {\n",
       "        vertical-align: top;\n",
       "    }\n",
       "\n",
       "    .dataframe thead th {\n",
       "        text-align: right;\n",
       "    }\n",
       "</style>\n",
       "<table border=\"1\" class=\"dataframe\">\n",
       "  <thead>\n",
       "    <tr style=\"text-align: right;\">\n",
       "      <th></th>\n",
       "      <th>country</th>\n",
       "      <th>description</th>\n",
       "      <th>designation</th>\n",
       "      <th>points</th>\n",
       "      <th>price</th>\n",
       "      <th>province</th>\n",
       "      <th>region_1</th>\n",
       "      <th>region_2</th>\n",
       "      <th>taster_name</th>\n",
       "      <th>taster_twitter_handle</th>\n",
       "      <th>title</th>\n",
       "      <th>variety</th>\n",
       "      <th>winery</th>\n",
       "    </tr>\n",
       "  </thead>\n",
       "  <tbody>\n",
       "    <tr>\n",
       "      <th>0</th>\n",
       "      <td>Italy</td>\n",
       "      <td>Aromas include tropical fruit, broom, brimston...</td>\n",
       "      <td>Vulkà Bianco</td>\n",
       "      <td>87</td>\n",
       "      <td>NaN</td>\n",
       "      <td>Sicily &amp; Sardinia</td>\n",
       "      <td>Etna</td>\n",
       "      <td>NaN</td>\n",
       "      <td>Kerin O’Keefe</td>\n",
       "      <td>@kerinokeefe</td>\n",
       "      <td>Nicosia 2013 Vulkà Bianco  (Etna)</td>\n",
       "      <td>White Blend</td>\n",
       "      <td>Nicosia</td>\n",
       "    </tr>\n",
       "    <tr>\n",
       "      <th>1</th>\n",
       "      <td>Portugal</td>\n",
       "      <td>This is ripe and fruity, a wine that is smooth...</td>\n",
       "      <td>Avidagos</td>\n",
       "      <td>87</td>\n",
       "      <td>15.0</td>\n",
       "      <td>Douro</td>\n",
       "      <td>NaN</td>\n",
       "      <td>NaN</td>\n",
       "      <td>Roger Voss</td>\n",
       "      <td>@vossroger</td>\n",
       "      <td>Quinta dos Avidagos 2011 Avidagos Red (Douro)</td>\n",
       "      <td>Portuguese Red</td>\n",
       "      <td>Quinta dos Avidagos</td>\n",
       "    </tr>\n",
       "    <tr>\n",
       "      <th>2</th>\n",
       "      <td>US</td>\n",
       "      <td>Tart and snappy, the flavors of lime flesh and...</td>\n",
       "      <td>NaN</td>\n",
       "      <td>87</td>\n",
       "      <td>14.0</td>\n",
       "      <td>Oregon</td>\n",
       "      <td>Willamette Valley</td>\n",
       "      <td>Willamette Valley</td>\n",
       "      <td>Paul Gregutt</td>\n",
       "      <td>@paulgwine</td>\n",
       "      <td>Rainstorm 2013 Pinot Gris (Willamette Valley)</td>\n",
       "      <td>Pinot Gris</td>\n",
       "      <td>Rainstorm</td>\n",
       "    </tr>\n",
       "    <tr>\n",
       "      <th>3</th>\n",
       "      <td>US</td>\n",
       "      <td>Pineapple rind, lemon pith and orange blossom ...</td>\n",
       "      <td>Reserve Late Harvest</td>\n",
       "      <td>87</td>\n",
       "      <td>13.0</td>\n",
       "      <td>Michigan</td>\n",
       "      <td>Lake Michigan Shore</td>\n",
       "      <td>NaN</td>\n",
       "      <td>Alexander Peartree</td>\n",
       "      <td>NaN</td>\n",
       "      <td>St. Julian 2013 Reserve Late Harvest Riesling ...</td>\n",
       "      <td>Riesling</td>\n",
       "      <td>St. Julian</td>\n",
       "    </tr>\n",
       "    <tr>\n",
       "      <th>4</th>\n",
       "      <td>US</td>\n",
       "      <td>Much like the regular bottling from 2012, this...</td>\n",
       "      <td>Vintner's Reserve Wild Child Block</td>\n",
       "      <td>87</td>\n",
       "      <td>65.0</td>\n",
       "      <td>Oregon</td>\n",
       "      <td>Willamette Valley</td>\n",
       "      <td>Willamette Valley</td>\n",
       "      <td>Paul Gregutt</td>\n",
       "      <td>@paulgwine</td>\n",
       "      <td>Sweet Cheeks 2012 Vintner's Reserve Wild Child...</td>\n",
       "      <td>Pinot Noir</td>\n",
       "      <td>Sweet Cheeks</td>\n",
       "    </tr>\n",
       "  </tbody>\n",
       "</table>\n",
       "</div>"
      ],
      "text/plain": [
       "    country                                        description  \\\n",
       "0     Italy  Aromas include tropical fruit, broom, brimston...   \n",
       "1  Portugal  This is ripe and fruity, a wine that is smooth...   \n",
       "2        US  Tart and snappy, the flavors of lime flesh and...   \n",
       "3        US  Pineapple rind, lemon pith and orange blossom ...   \n",
       "4        US  Much like the regular bottling from 2012, this...   \n",
       "\n",
       "                          designation  points  price           province  \\\n",
       "0                        Vulkà Bianco      87    NaN  Sicily & Sardinia   \n",
       "1                            Avidagos      87   15.0              Douro   \n",
       "2                                 NaN      87   14.0             Oregon   \n",
       "3                Reserve Late Harvest      87   13.0           Michigan   \n",
       "4  Vintner's Reserve Wild Child Block      87   65.0             Oregon   \n",
       "\n",
       "              region_1           region_2         taster_name  \\\n",
       "0                 Etna                NaN       Kerin O’Keefe   \n",
       "1                  NaN                NaN          Roger Voss   \n",
       "2    Willamette Valley  Willamette Valley        Paul Gregutt   \n",
       "3  Lake Michigan Shore                NaN  Alexander Peartree   \n",
       "4    Willamette Valley  Willamette Valley        Paul Gregutt   \n",
       "\n",
       "  taster_twitter_handle                                              title  \\\n",
       "0          @kerinokeefe                  Nicosia 2013 Vulkà Bianco  (Etna)   \n",
       "1            @vossroger      Quinta dos Avidagos 2011 Avidagos Red (Douro)   \n",
       "2           @paulgwine       Rainstorm 2013 Pinot Gris (Willamette Valley)   \n",
       "3                   NaN  St. Julian 2013 Reserve Late Harvest Riesling ...   \n",
       "4           @paulgwine   Sweet Cheeks 2012 Vintner's Reserve Wild Child...   \n",
       "\n",
       "          variety               winery  \n",
       "0     White Blend              Nicosia  \n",
       "1  Portuguese Red  Quinta dos Avidagos  \n",
       "2      Pinot Gris            Rainstorm  \n",
       "3        Riesling           St. Julian  \n",
       "4      Pinot Noir         Sweet Cheeks  "
      ]
     },
     "execution_count": 1,
     "metadata": {},
     "output_type": "execute_result"
    }
   ],
   "source": [
    "import pandas as pd\n",
    "pd.set_option(\"display.max_rows\", 5)\n",
    "reviews = pd.read_csv(\"../input/wine-reviews/winemag-data-130k-v2.csv\", index_col=0)\n",
    "\n",
    "from learntools.core import binder; binder.bind(globals())\n",
    "from learntools.pandas.summary_functions_and_maps import *\n",
    "print(\"Setup complete.\")\n",
    "\n",
    "reviews.head()"
   ]
  },
  {
   "cell_type": "markdown",
   "id": "98432de7",
   "metadata": {
    "papermill": {
     "duration": 0.008551,
     "end_time": "2023-11-22T10:58:20.389132",
     "exception": false,
     "start_time": "2023-11-22T10:58:20.380581",
     "status": "completed"
    },
    "tags": []
   },
   "source": [
    "# Exercises"
   ]
  },
  {
   "cell_type": "markdown",
   "id": "e9325b55",
   "metadata": {
    "papermill": {
     "duration": 0.009057,
     "end_time": "2023-11-22T10:58:20.407127",
     "exception": false,
     "start_time": "2023-11-22T10:58:20.398070",
     "status": "completed"
    },
    "tags": []
   },
   "source": [
    "## 1.\n",
    "\n",
    "What is the median of the `points` column in the `reviews` DataFrame?"
   ]
  },
  {
   "cell_type": "code",
   "execution_count": 2,
   "id": "33298d9a",
   "metadata": {
    "execution": {
     "iopub.execute_input": "2023-11-22T10:58:20.427006Z",
     "iopub.status.busy": "2023-11-22T10:58:20.426561Z",
     "iopub.status.idle": "2023-11-22T10:58:20.438424Z",
     "shell.execute_reply": "2023-11-22T10:58:20.437246Z"
    },
    "papermill": {
     "duration": 0.024914,
     "end_time": "2023-11-22T10:58:20.440854",
     "exception": false,
     "start_time": "2023-11-22T10:58:20.415940",
     "status": "completed"
    },
    "tags": []
   },
   "outputs": [
    {
     "data": {
      "application/javascript": [
       "parent.postMessage({\"jupyterEvent\": \"custom.exercise_interaction\", \"data\": {\"outcomeType\": 1, \"valueTowardsCompletion\": 0.14285714285714285, \"interactionType\": 1, \"questionType\": 1, \"questionId\": \"1_MedianPoints\", \"learnToolsVersion\": \"0.3.4\", \"failureMessage\": \"\", \"exceptionClass\": \"\", \"trace\": \"\"}}, \"*\")"
      ],
      "text/plain": [
       "<IPython.core.display.Javascript object>"
      ]
     },
     "metadata": {},
     "output_type": "display_data"
    },
    {
     "data": {
      "text/markdown": [
       "<span style=\"color:#33cc33\">Correct</span>"
      ],
      "text/plain": [
       "Correct"
      ]
     },
     "metadata": {},
     "output_type": "display_data"
    }
   ],
   "source": [
    "median_points = reviews.points.median()\n",
    "\n",
    "# Check your answer\n",
    "q1.check()"
   ]
  },
  {
   "cell_type": "code",
   "execution_count": 3,
   "id": "b22a81cd",
   "metadata": {
    "execution": {
     "iopub.execute_input": "2023-11-22T10:58:20.461649Z",
     "iopub.status.busy": "2023-11-22T10:58:20.460968Z",
     "iopub.status.idle": "2023-11-22T10:58:20.470656Z",
     "shell.execute_reply": "2023-11-22T10:58:20.469491Z"
    },
    "papermill": {
     "duration": 0.022978,
     "end_time": "2023-11-22T10:58:20.473183",
     "exception": false,
     "start_time": "2023-11-22T10:58:20.450205",
     "status": "completed"
    },
    "tags": []
   },
   "outputs": [
    {
     "data": {
      "application/javascript": [
       "parent.postMessage({\"jupyterEvent\": \"custom.exercise_interaction\", \"data\": {\"interactionType\": 2, \"questionType\": 1, \"questionId\": \"1_MedianPoints\", \"learnToolsVersion\": \"0.3.4\", \"valueTowardsCompletion\": 0.0, \"failureMessage\": \"\", \"exceptionClass\": \"\", \"trace\": \"\", \"outcomeType\": 4}}, \"*\")"
      ],
      "text/plain": [
       "<IPython.core.display.Javascript object>"
      ]
     },
     "metadata": {},
     "output_type": "display_data"
    },
    {
     "data": {
      "text/markdown": [
       "<span style=\"color:#3366cc\">Hint:</span> Use the `median` function (a built-in `pandas` function, like the `mean` function or the `unique` function)."
      ],
      "text/plain": [
       "Hint: Use the `median` function (a built-in `pandas` function, like the `mean` function or the `unique` function)."
      ]
     },
     "metadata": {},
     "output_type": "display_data"
    }
   ],
   "source": [
    "q1.hint()\n",
    "#q1.solution()"
   ]
  },
  {
   "cell_type": "markdown",
   "id": "54c50690",
   "metadata": {
    "papermill": {
     "duration": 0.009402,
     "end_time": "2023-11-22T10:58:20.492651",
     "exception": false,
     "start_time": "2023-11-22T10:58:20.483249",
     "status": "completed"
    },
    "tags": []
   },
   "source": [
    "## 2. \n",
    "What countries are represented in the dataset? (Your answer should not include any duplicates.)"
   ]
  },
  {
   "cell_type": "code",
   "execution_count": 4,
   "id": "5fce6af7",
   "metadata": {
    "execution": {
     "iopub.execute_input": "2023-11-22T10:58:20.513372Z",
     "iopub.status.busy": "2023-11-22T10:58:20.512980Z",
     "iopub.status.idle": "2023-11-22T10:58:20.535720Z",
     "shell.execute_reply": "2023-11-22T10:58:20.534551Z"
    },
    "papermill": {
     "duration": 0.036203,
     "end_time": "2023-11-22T10:58:20.538308",
     "exception": false,
     "start_time": "2023-11-22T10:58:20.502105",
     "status": "completed"
    },
    "tags": []
   },
   "outputs": [
    {
     "data": {
      "application/javascript": [
       "parent.postMessage({\"jupyterEvent\": \"custom.exercise_interaction\", \"data\": {\"outcomeType\": 1, \"valueTowardsCompletion\": 0.14285714285714285, \"interactionType\": 1, \"questionType\": 2, \"questionId\": \"2_UniqueCountries\", \"learnToolsVersion\": \"0.3.4\", \"failureMessage\": \"\", \"exceptionClass\": \"\", \"trace\": \"\"}}, \"*\")"
      ],
      "text/plain": [
       "<IPython.core.display.Javascript object>"
      ]
     },
     "metadata": {},
     "output_type": "display_data"
    },
    {
     "data": {
      "text/markdown": [
       "<span style=\"color:#33cc33\">Correct</span>"
      ],
      "text/plain": [
       "Correct"
      ]
     },
     "metadata": {},
     "output_type": "display_data"
    }
   ],
   "source": [
    "countries = reviews.country.unique()\n",
    "\n",
    "# Check your answer\n",
    "q2.check()"
   ]
  },
  {
   "cell_type": "code",
   "execution_count": 5,
   "id": "a97185f2",
   "metadata": {
    "execution": {
     "iopub.execute_input": "2023-11-22T10:58:20.561736Z",
     "iopub.status.busy": "2023-11-22T10:58:20.561350Z",
     "iopub.status.idle": "2023-11-22T10:58:20.566331Z",
     "shell.execute_reply": "2023-11-22T10:58:20.564995Z"
    },
    "papermill": {
     "duration": 0.020797,
     "end_time": "2023-11-22T10:58:20.569924",
     "exception": false,
     "start_time": "2023-11-22T10:58:20.549127",
     "status": "completed"
    },
    "tags": []
   },
   "outputs": [],
   "source": [
    "#q2.hint()\n",
    "#q2.solution()"
   ]
  },
  {
   "cell_type": "markdown",
   "id": "cc8a616b",
   "metadata": {
    "papermill": {
     "duration": 0.011002,
     "end_time": "2023-11-22T10:58:20.591789",
     "exception": false,
     "start_time": "2023-11-22T10:58:20.580787",
     "status": "completed"
    },
    "tags": []
   },
   "source": [
    "## 3.\n",
    "How often does each country appear in the dataset? Create a Series `reviews_per_country` mapping countries to the count of reviews of wines from that country."
   ]
  },
  {
   "cell_type": "code",
   "execution_count": 6,
   "id": "a0e55dd7",
   "metadata": {
    "execution": {
     "iopub.execute_input": "2023-11-22T10:58:20.614732Z",
     "iopub.status.busy": "2023-11-22T10:58:20.614343Z",
     "iopub.status.idle": "2023-11-22T10:58:20.647725Z",
     "shell.execute_reply": "2023-11-22T10:58:20.646228Z"
    },
    "papermill": {
     "duration": 0.047831,
     "end_time": "2023-11-22T10:58:20.650538",
     "exception": false,
     "start_time": "2023-11-22T10:58:20.602707",
     "status": "completed"
    },
    "tags": []
   },
   "outputs": [
    {
     "data": {
      "application/javascript": [
       "parent.postMessage({\"jupyterEvent\": \"custom.exercise_interaction\", \"data\": {\"outcomeType\": 1, \"valueTowardsCompletion\": 0.14285714285714285, \"interactionType\": 1, \"questionType\": 1, \"questionId\": \"3_ReviewsPerCountry\", \"learnToolsVersion\": \"0.3.4\", \"failureMessage\": \"\", \"exceptionClass\": \"\", \"trace\": \"\"}}, \"*\")"
      ],
      "text/plain": [
       "<IPython.core.display.Javascript object>"
      ]
     },
     "metadata": {},
     "output_type": "display_data"
    },
    {
     "data": {
      "text/markdown": [
       "<span style=\"color:#33cc33\">Correct</span>"
      ],
      "text/plain": [
       "Correct"
      ]
     },
     "metadata": {},
     "output_type": "display_data"
    }
   ],
   "source": [
    "reviews_per_country = reviews.country.value_counts()\n",
    "\n",
    "# Check your answer\n",
    "q3.check()"
   ]
  },
  {
   "cell_type": "code",
   "execution_count": 7,
   "id": "c29a4ea0",
   "metadata": {
    "execution": {
     "iopub.execute_input": "2023-11-22T10:58:20.674866Z",
     "iopub.status.busy": "2023-11-22T10:58:20.674440Z",
     "iopub.status.idle": "2023-11-22T10:58:20.679240Z",
     "shell.execute_reply": "2023-11-22T10:58:20.677984Z"
    },
    "papermill": {
     "duration": 0.019221,
     "end_time": "2023-11-22T10:58:20.681709",
     "exception": false,
     "start_time": "2023-11-22T10:58:20.662488",
     "status": "completed"
    },
    "tags": []
   },
   "outputs": [],
   "source": [
    "#q3.hint()\n",
    "#q3.solution()"
   ]
  },
  {
   "cell_type": "markdown",
   "id": "10d8c337",
   "metadata": {
    "papermill": {
     "duration": 0.010019,
     "end_time": "2023-11-22T10:58:20.702246",
     "exception": false,
     "start_time": "2023-11-22T10:58:20.692227",
     "status": "completed"
    },
    "tags": []
   },
   "source": [
    "## 4.\n",
    "Create variable `centered_price` containing a version of the `price` column with the mean price subtracted.\n",
    "\n",
    "(Note: this 'centering' transformation is a common preprocessing step before applying various machine learning algorithms.) "
   ]
  },
  {
   "cell_type": "code",
   "execution_count": 8,
   "id": "f94bae70",
   "metadata": {
    "execution": {
     "iopub.execute_input": "2023-11-22T10:58:20.725556Z",
     "iopub.status.busy": "2023-11-22T10:58:20.724642Z",
     "iopub.status.idle": "2023-11-22T10:58:20.736024Z",
     "shell.execute_reply": "2023-11-22T10:58:20.734648Z"
    },
    "papermill": {
     "duration": 0.025768,
     "end_time": "2023-11-22T10:58:20.738467",
     "exception": false,
     "start_time": "2023-11-22T10:58:20.712699",
     "status": "completed"
    },
    "tags": []
   },
   "outputs": [
    {
     "data": {
      "application/javascript": [
       "parent.postMessage({\"jupyterEvent\": \"custom.exercise_interaction\", \"data\": {\"outcomeType\": 1, \"valueTowardsCompletion\": 0.14285714285714285, \"interactionType\": 1, \"questionType\": 1, \"questionId\": \"4_CenteredPrice\", \"learnToolsVersion\": \"0.3.4\", \"failureMessage\": \"\", \"exceptionClass\": \"\", \"trace\": \"\"}}, \"*\")"
      ],
      "text/plain": [
       "<IPython.core.display.Javascript object>"
      ]
     },
     "metadata": {},
     "output_type": "display_data"
    },
    {
     "data": {
      "text/markdown": [
       "<span style=\"color:#33cc33\">Correct</span>"
      ],
      "text/plain": [
       "Correct"
      ]
     },
     "metadata": {},
     "output_type": "display_data"
    }
   ],
   "source": [
    "centered_price = reviews.price - reviews.price.mean()\n",
    "\n",
    "# Check your answer\n",
    "q4.check()"
   ]
  },
  {
   "cell_type": "code",
   "execution_count": 9,
   "id": "8f19c153",
   "metadata": {
    "execution": {
     "iopub.execute_input": "2023-11-22T10:58:20.764184Z",
     "iopub.status.busy": "2023-11-22T10:58:20.763748Z",
     "iopub.status.idle": "2023-11-22T10:58:20.768374Z",
     "shell.execute_reply": "2023-11-22T10:58:20.767218Z"
    },
    "papermill": {
     "duration": 0.020034,
     "end_time": "2023-11-22T10:58:20.770791",
     "exception": false,
     "start_time": "2023-11-22T10:58:20.750757",
     "status": "completed"
    },
    "tags": []
   },
   "outputs": [],
   "source": [
    "#q4.hint()\n",
    "#q4.solution()"
   ]
  },
  {
   "cell_type": "markdown",
   "id": "7ed13024",
   "metadata": {
    "papermill": {
     "duration": 0.011522,
     "end_time": "2023-11-22T10:58:20.793181",
     "exception": false,
     "start_time": "2023-11-22T10:58:20.781659",
     "status": "completed"
    },
    "tags": []
   },
   "source": [
    "## 5.\n",
    "I'm an economical wine buyer. Which wine is the \"best bargain\"? Create a variable `bargain_wine` with the title of the wine with the highest points-to-price ratio in the dataset."
   ]
  },
  {
   "cell_type": "code",
   "execution_count": 10,
   "id": "e21c3854",
   "metadata": {
    "execution": {
     "iopub.execute_input": "2023-11-22T10:58:20.817844Z",
     "iopub.status.busy": "2023-11-22T10:58:20.817374Z",
     "iopub.status.idle": "2023-11-22T10:58:20.834454Z",
     "shell.execute_reply": "2023-11-22T10:58:20.833317Z"
    },
    "papermill": {
     "duration": 0.032737,
     "end_time": "2023-11-22T10:58:20.837195",
     "exception": false,
     "start_time": "2023-11-22T10:58:20.804458",
     "status": "completed"
    },
    "tags": []
   },
   "outputs": [
    {
     "data": {
      "application/javascript": [
       "parent.postMessage({\"jupyterEvent\": \"custom.exercise_interaction\", \"data\": {\"outcomeType\": 1, \"valueTowardsCompletion\": 0.14285714285714285, \"interactionType\": 1, \"questionType\": 2, \"questionId\": \"5_BargainWine\", \"learnToolsVersion\": \"0.3.4\", \"failureMessage\": \"\", \"exceptionClass\": \"\", \"trace\": \"\"}}, \"*\")"
      ],
      "text/plain": [
       "<IPython.core.display.Javascript object>"
      ]
     },
     "metadata": {},
     "output_type": "display_data"
    },
    {
     "data": {
      "text/markdown": [
       "<span style=\"color:#33cc33\">Correct</span>"
      ],
      "text/plain": [
       "Correct"
      ]
     },
     "metadata": {},
     "output_type": "display_data"
    }
   ],
   "source": [
    "bIdx = (reviews.points/reviews.price).idxmax()\n",
    "bargain_wine = reviews.loc[bIdx, \"title\"]\n",
    "\n",
    "# Check your answer\n",
    "q5.check()"
   ]
  },
  {
   "cell_type": "code",
   "execution_count": 11,
   "id": "b428e8e6",
   "metadata": {
    "execution": {
     "iopub.execute_input": "2023-11-22T10:58:20.862578Z",
     "iopub.status.busy": "2023-11-22T10:58:20.862184Z",
     "iopub.status.idle": "2023-11-22T10:58:20.874650Z",
     "shell.execute_reply": "2023-11-22T10:58:20.873733Z"
    },
    "papermill": {
     "duration": 0.027838,
     "end_time": "2023-11-22T10:58:20.877141",
     "exception": false,
     "start_time": "2023-11-22T10:58:20.849303",
     "status": "completed"
    },
    "tags": []
   },
   "outputs": [
    {
     "data": {
      "application/javascript": [
       "parent.postMessage({\"jupyterEvent\": \"custom.exercise_interaction\", \"data\": {\"interactionType\": 2, \"questionType\": 2, \"questionId\": \"5_BargainWine\", \"learnToolsVersion\": \"0.3.4\", \"valueTowardsCompletion\": 0.0, \"failureMessage\": \"\", \"exceptionClass\": \"\", \"trace\": \"\", \"outcomeType\": 4}}, \"*\")"
      ],
      "text/plain": [
       "<IPython.core.display.Javascript object>"
      ]
     },
     "metadata": {},
     "output_type": "display_data"
    },
    {
     "data": {
      "text/markdown": [
       "<span style=\"color:#3366cc\">Hint:</span> The `idxmax` method may be useful here."
      ],
      "text/plain": [
       "Hint: The `idxmax` method may be useful here."
      ]
     },
     "metadata": {},
     "output_type": "display_data"
    },
    {
     "data": {
      "application/javascript": [
       "parent.postMessage({\"jupyterEvent\": \"custom.exercise_interaction\", \"data\": {\"interactionType\": 3, \"questionType\": 2, \"questionId\": \"5_BargainWine\", \"learnToolsVersion\": \"0.3.4\", \"valueTowardsCompletion\": 0.0, \"failureMessage\": \"\", \"exceptionClass\": \"\", \"trace\": \"\", \"outcomeType\": 4}}, \"*\")"
      ],
      "text/plain": [
       "<IPython.core.display.Javascript object>"
      ]
     },
     "metadata": {},
     "output_type": "display_data"
    },
    {
     "data": {
      "text/markdown": [
       "<span style=\"color:#33cc99\">Solution:</span> \n",
       "```python\n",
       "bargain_idx = (reviews.points / reviews.price).idxmax()\n",
       "bargain_wine = reviews.loc[bargain_idx, 'title']\n",
       "```"
      ],
      "text/plain": [
       "Solution: \n",
       "```python\n",
       "bargain_idx = (reviews.points / reviews.price).idxmax()\n",
       "bargain_wine = reviews.loc[bargain_idx, 'title']\n",
       "```"
      ]
     },
     "metadata": {},
     "output_type": "display_data"
    }
   ],
   "source": [
    "q5.hint()\n",
    "q5.solution()"
   ]
  },
  {
   "cell_type": "markdown",
   "id": "b9e85fe5",
   "metadata": {
    "papermill": {
     "duration": 0.012318,
     "end_time": "2023-11-22T10:58:20.901359",
     "exception": false,
     "start_time": "2023-11-22T10:58:20.889041",
     "status": "completed"
    },
    "tags": []
   },
   "source": [
    "## 6.\n",
    "There are only so many words you can use when describing a bottle of wine. Is a wine more likely to be \"tropical\" or \"fruity\"? Create a Series `descriptor_counts` counting how many times each of these two words appears in the `description` column in the dataset. (For simplicity, let's ignore the capitalized versions of these words.)"
   ]
  },
  {
   "cell_type": "code",
   "execution_count": 12,
   "id": "66434c4b",
   "metadata": {
    "execution": {
     "iopub.execute_input": "2023-11-22T10:58:20.928930Z",
     "iopub.status.busy": "2023-11-22T10:58:20.928440Z",
     "iopub.status.idle": "2023-11-22T10:58:21.100168Z",
     "shell.execute_reply": "2023-11-22T10:58:21.098991Z"
    },
    "papermill": {
     "duration": 0.187737,
     "end_time": "2023-11-22T10:58:21.102641",
     "exception": false,
     "start_time": "2023-11-22T10:58:20.914904",
     "status": "completed"
    },
    "tags": []
   },
   "outputs": [
    {
     "data": {
      "application/javascript": [
       "parent.postMessage({\"jupyterEvent\": \"custom.exercise_interaction\", \"data\": {\"outcomeType\": 1, \"valueTowardsCompletion\": 0.14285714285714285, \"interactionType\": 1, \"questionType\": 1, \"questionId\": \"6_DescriptorCounts\", \"learnToolsVersion\": \"0.3.4\", \"failureMessage\": \"\", \"exceptionClass\": \"\", \"trace\": \"\"}}, \"*\")"
      ],
      "text/plain": [
       "<IPython.core.display.Javascript object>"
      ]
     },
     "metadata": {},
     "output_type": "display_data"
    },
    {
     "data": {
      "text/markdown": [
       "<span style=\"color:#33cc33\">Correct</span>"
      ],
      "text/plain": [
       "Correct"
      ]
     },
     "metadata": {},
     "output_type": "display_data"
    }
   ],
   "source": [
    "trop = reviews.description.map(lambda desc: \"tropical\" in desc).sum()\n",
    "fru = reviews.description.map(lambda desc: \"fruity\" in desc).sum()\n",
    "descriptor_counts = pd.Series([trop, fru], index=[\"tropical\", \"fruity\"])\n",
    "\n",
    "# Check your answer\n",
    "q6.check()"
   ]
  },
  {
   "cell_type": "code",
   "execution_count": 13,
   "id": "2fe5dbb0",
   "metadata": {
    "execution": {
     "iopub.execute_input": "2023-11-22T10:58:21.129357Z",
     "iopub.status.busy": "2023-11-22T10:58:21.128595Z",
     "iopub.status.idle": "2023-11-22T10:58:21.141822Z",
     "shell.execute_reply": "2023-11-22T10:58:21.140725Z"
    },
    "papermill": {
     "duration": 0.02945,
     "end_time": "2023-11-22T10:58:21.144310",
     "exception": false,
     "start_time": "2023-11-22T10:58:21.114860",
     "status": "completed"
    },
    "tags": []
   },
   "outputs": [
    {
     "data": {
      "application/javascript": [
       "parent.postMessage({\"jupyterEvent\": \"custom.exercise_interaction\", \"data\": {\"interactionType\": 2, \"questionType\": 1, \"questionId\": \"6_DescriptorCounts\", \"learnToolsVersion\": \"0.3.4\", \"valueTowardsCompletion\": 0.0, \"failureMessage\": \"\", \"exceptionClass\": \"\", \"trace\": \"\", \"outcomeType\": 4}}, \"*\")"
      ],
      "text/plain": [
       "<IPython.core.display.Javascript object>"
      ]
     },
     "metadata": {},
     "output_type": "display_data"
    },
    {
     "data": {
      "text/markdown": [
       "<span style=\"color:#3366cc\">Hint:</span> Use a map to check each description for the string `tropical`, then count up the number of times this is `True`. Repeat this for `fruity`. Finally, create a `Series` combining the two values."
      ],
      "text/plain": [
       "Hint: Use a map to check each description for the string `tropical`, then count up the number of times this is `True`. Repeat this for `fruity`. Finally, create a `Series` combining the two values."
      ]
     },
     "metadata": {},
     "output_type": "display_data"
    },
    {
     "data": {
      "application/javascript": [
       "parent.postMessage({\"jupyterEvent\": \"custom.exercise_interaction\", \"data\": {\"interactionType\": 3, \"questionType\": 1, \"questionId\": \"6_DescriptorCounts\", \"learnToolsVersion\": \"0.3.4\", \"valueTowardsCompletion\": 0.0, \"failureMessage\": \"\", \"exceptionClass\": \"\", \"trace\": \"\", \"outcomeType\": 4}}, \"*\")"
      ],
      "text/plain": [
       "<IPython.core.display.Javascript object>"
      ]
     },
     "metadata": {},
     "output_type": "display_data"
    },
    {
     "data": {
      "text/markdown": [
       "<span style=\"color:#33cc99\">Solution:</span> \n",
       "```python\n",
       "n_trop = reviews.description.map(lambda desc: \"tropical\" in desc).sum()\n",
       "n_fruity = reviews.description.map(lambda desc: \"fruity\" in desc).sum()\n",
       "descriptor_counts = pd.Series([n_trop, n_fruity], index=['tropical', 'fruity'])\n",
       "```"
      ],
      "text/plain": [
       "Solution: \n",
       "```python\n",
       "n_trop = reviews.description.map(lambda desc: \"tropical\" in desc).sum()\n",
       "n_fruity = reviews.description.map(lambda desc: \"fruity\" in desc).sum()\n",
       "descriptor_counts = pd.Series([n_trop, n_fruity], index=['tropical', 'fruity'])\n",
       "```"
      ]
     },
     "metadata": {},
     "output_type": "display_data"
    }
   ],
   "source": [
    "q6.hint()\n",
    "q6.solution()"
   ]
  },
  {
   "cell_type": "markdown",
   "id": "02349685",
   "metadata": {
    "papermill": {
     "duration": 0.0132,
     "end_time": "2023-11-22T10:58:21.171285",
     "exception": false,
     "start_time": "2023-11-22T10:58:21.158085",
     "status": "completed"
    },
    "tags": []
   },
   "source": [
    "## 7.\n",
    "We'd like to host these wine reviews on our website, but a rating system ranging from 80 to 100 points is too hard to understand - we'd like to translate them into simple star ratings. A score of 95 or higher counts as 3 stars, a score of at least 85 but less than 95 is 2 stars. Any other score is 1 star.\n",
    "\n",
    "Also, the Canadian Vintners Association bought a lot of ads on the site, so any wines from Canada should automatically get 3 stars, regardless of points.\n",
    "\n",
    "Create a series `star_ratings` with the number of stars corresponding to each review in the dataset."
   ]
  },
  {
   "cell_type": "code",
   "execution_count": 14,
   "id": "879b8d3f",
   "metadata": {
    "execution": {
     "iopub.execute_input": "2023-11-22T10:58:21.200679Z",
     "iopub.status.busy": "2023-11-22T10:58:21.200006Z",
     "iopub.status.idle": "2023-11-22T10:58:24.922395Z",
     "shell.execute_reply": "2023-11-22T10:58:24.921051Z"
    },
    "papermill": {
     "duration": 3.740228,
     "end_time": "2023-11-22T10:58:24.925337",
     "exception": false,
     "start_time": "2023-11-22T10:58:21.185109",
     "status": "completed"
    },
    "tags": []
   },
   "outputs": [
    {
     "data": {
      "application/javascript": [
       "parent.postMessage({\"jupyterEvent\": \"custom.exercise_interaction\", \"data\": {\"outcomeType\": 1, \"valueTowardsCompletion\": 0.14285714285714285, \"interactionType\": 1, \"questionType\": 1, \"questionId\": \"7_StarRatings\", \"learnToolsVersion\": \"0.3.4\", \"failureMessage\": \"\", \"exceptionClass\": \"\", \"trace\": \"\"}}, \"*\")"
      ],
      "text/plain": [
       "<IPython.core.display.Javascript object>"
      ]
     },
     "metadata": {},
     "output_type": "display_data"
    },
    {
     "data": {
      "text/markdown": [
       "<span style=\"color:#33cc33\">Correct</span>"
      ],
      "text/plain": [
       "Correct"
      ]
     },
     "metadata": {},
     "output_type": "display_data"
    }
   ],
   "source": [
    "def rate(row):\n",
    "    mark = row.points\n",
    "    if row.country == \"Canadian\":\n",
    "        return 3\n",
    "    elif mark>= 95:\n",
    "        return 3\n",
    "    elif mark >= 85:\n",
    "        return 2\n",
    "    else:\n",
    "        return 1\n",
    "    \n",
    "\n",
    "\n",
    "star_ratings = reviews.apply(rate, axis = 1)\n",
    "\n",
    "# Check your answer\n",
    "q7.check()"
   ]
  },
  {
   "cell_type": "code",
   "execution_count": 15,
   "id": "cc0b20b1",
   "metadata": {
    "execution": {
     "iopub.execute_input": "2023-11-22T10:58:24.956203Z",
     "iopub.status.busy": "2023-11-22T10:58:24.955746Z",
     "iopub.status.idle": "2023-11-22T10:58:24.965449Z",
     "shell.execute_reply": "2023-11-22T10:58:24.964027Z"
    },
    "papermill": {
     "duration": 0.027439,
     "end_time": "2023-11-22T10:58:24.968039",
     "exception": false,
     "start_time": "2023-11-22T10:58:24.940600",
     "status": "completed"
    },
    "tags": []
   },
   "outputs": [
    {
     "data": {
      "application/javascript": [
       "parent.postMessage({\"jupyterEvent\": \"custom.exercise_interaction\", \"data\": {\"interactionType\": 3, \"questionType\": 1, \"questionId\": \"7_StarRatings\", \"learnToolsVersion\": \"0.3.4\", \"valueTowardsCompletion\": 0.0, \"failureMessage\": \"\", \"exceptionClass\": \"\", \"trace\": \"\", \"outcomeType\": 4}}, \"*\")"
      ],
      "text/plain": [
       "<IPython.core.display.Javascript object>"
      ]
     },
     "metadata": {},
     "output_type": "display_data"
    },
    {
     "data": {
      "text/markdown": [
       "<span style=\"color:#33cc99\">Solution:</span> \n",
       "```python\n",
       "def stars(row):\n",
       "    if row.country == 'Canada':\n",
       "        return 3\n",
       "    elif row.points >= 95:\n",
       "        return 3\n",
       "    elif row.points >= 85:\n",
       "        return 2\n",
       "    else:\n",
       "        return 1\n",
       "    \n",
       "star_ratings = reviews.apply(stars, axis='columns')\n",
       "```"
      ],
      "text/plain": [
       "Solution: \n",
       "```python\n",
       "def stars(row):\n",
       "    if row.country == 'Canada':\n",
       "        return 3\n",
       "    elif row.points >= 95:\n",
       "        return 3\n",
       "    elif row.points >= 85:\n",
       "        return 2\n",
       "    else:\n",
       "        return 1\n",
       "    \n",
       "star_ratings = reviews.apply(stars, axis='columns')\n",
       "```"
      ]
     },
     "metadata": {},
     "output_type": "display_data"
    }
   ],
   "source": [
    "#q7.hint()\n",
    "q7.solution()"
   ]
  },
  {
   "cell_type": "markdown",
   "id": "b661f3e5",
   "metadata": {
    "papermill": {
     "duration": 0.014332,
     "end_time": "2023-11-22T10:58:24.997285",
     "exception": false,
     "start_time": "2023-11-22T10:58:24.982953",
     "status": "completed"
    },
    "tags": []
   },
   "source": [
    "# Keep going\n",
    "Continue to **[grouping and sorting](https://www.kaggle.com/residentmario/grouping-and-sorting)**."
   ]
  },
  {
   "cell_type": "markdown",
   "id": "26c04339",
   "metadata": {
    "papermill": {
     "duration": 0.013665,
     "end_time": "2023-11-22T10:58:25.026590",
     "exception": false,
     "start_time": "2023-11-22T10:58:25.012925",
     "status": "completed"
    },
    "tags": []
   },
   "source": [
    "---\n",
    "\n",
    "\n",
    "\n",
    "\n",
    "*Have questions or comments? Visit the [course discussion forum](https://www.kaggle.com/learn/pandas/discussion) to chat with other learners.*"
   ]
  }
 ],
 "metadata": {
  "kaggle": {
   "accelerator": "none",
   "dataSources": [
    {
     "datasetId": 655,
     "sourceId": 1252,
     "sourceType": "datasetVersion"
    },
    {
     "datasetId": 2321,
     "sourceId": 3919,
     "sourceType": "datasetVersion"
    },
    {
     "datasetId": 2894,
     "sourceId": 4877,
     "sourceType": "datasetVersion"
    },
    {
     "datasetId": 3491,
     "sourceId": 5624,
     "sourceType": "datasetVersion"
    },
    {
     "datasetId": 1442,
     "sourceId": 8172,
     "sourceType": "datasetVersion"
    },
    {
     "datasetId": 9366,
     "sourceId": 13206,
     "sourceType": "datasetVersion"
    },
    {
     "datasetId": 179555,
     "sourceId": 403916,
     "sourceType": "datasetVersion"
    },
    {
     "datasetId": 4549,
     "sourceId": 466349,
     "sourceType": "datasetVersion"
    },
    {
     "datasetId": 2478,
     "sourceId": 1151655,
     "sourceType": "datasetVersion"
    },
    {
     "datasetId": 10128,
     "sourceId": 5438389,
     "sourceType": "datasetVersion"
    }
   ],
   "isGpuEnabled": false,
   "isInternetEnabled": false,
   "language": "python",
   "sourceType": "notebook"
  },
  "kernelspec": {
   "display_name": "Python 3",
   "language": "python",
   "name": "python3"
  },
  "language_info": {
   "codemirror_mode": {
    "name": "ipython",
    "version": 3
   },
   "file_extension": ".py",
   "mimetype": "text/x-python",
   "name": "python",
   "nbconvert_exporter": "python",
   "pygments_lexer": "ipython3",
   "version": "3.10.12"
  },
  "papermill": {
   "default_parameters": {},
   "duration": 18.009519,
   "end_time": "2023-11-22T10:58:25.664101",
   "environment_variables": {},
   "exception": null,
   "input_path": "__notebook__.ipynb",
   "output_path": "__notebook__.ipynb",
   "parameters": {},
   "start_time": "2023-11-22T10:58:07.654582",
   "version": "2.4.0"
  }
 },
 "nbformat": 4,
 "nbformat_minor": 5
}
