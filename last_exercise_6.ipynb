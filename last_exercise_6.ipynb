{
 "cells": [
  {
   "cell_type": "markdown",
   "id": "efe6ea59",
   "metadata": {
    "papermill": {
     "duration": 0.009769,
     "end_time": "2023-11-24T16:52:26.124993",
     "exception": false,
     "start_time": "2023-11-24T16:52:26.115224",
     "status": "completed"
    },
    "tags": []
   },
   "source": [
    "**This notebook is an exercise in the [Pandas](https://www.kaggle.com/learn/pandas) course.  You can reference the tutorial at [this link](https://www.kaggle.com/residentmario/renaming-and-combining).**\n",
    "\n",
    "---\n"
   ]
  },
  {
   "cell_type": "markdown",
   "id": "4ad16f80",
   "metadata": {
    "papermill": {
     "duration": 0.007637,
     "end_time": "2023-11-24T16:52:26.140247",
     "exception": false,
     "start_time": "2023-11-24T16:52:26.132610",
     "status": "completed"
    },
    "tags": []
   },
   "source": [
    "# Introduction\n",
    "\n",
    "Run the following cell to load your data and some utility functions."
   ]
  },
  {
   "cell_type": "code",
   "execution_count": 1,
   "id": "ffa5983d",
   "metadata": {
    "execution": {
     "iopub.execute_input": "2023-11-24T16:52:26.157636Z",
     "iopub.status.busy": "2023-11-24T16:52:26.156540Z",
     "iopub.status.idle": "2023-11-24T16:52:31.392898Z",
     "shell.execute_reply": "2023-11-24T16:52:31.391619Z"
    },
    "papermill": {
     "duration": 5.248017,
     "end_time": "2023-11-24T16:52:31.395662",
     "exception": false,
     "start_time": "2023-11-24T16:52:26.147645",
     "status": "completed"
    },
    "tags": []
   },
   "outputs": [
    {
     "name": "stdout",
     "output_type": "stream",
     "text": [
      "Setup complete.\n"
     ]
    }
   ],
   "source": [
    "import pandas as pd\n",
    "\n",
    "reviews = pd.read_csv(\"../input/wine-reviews/winemag-data-130k-v2.csv\", index_col=0)\n",
    "\n",
    "from learntools.core import binder; binder.bind(globals())\n",
    "from learntools.pandas.renaming_and_combining import *\n",
    "print(\"Setup complete.\")"
   ]
  },
  {
   "cell_type": "markdown",
   "id": "f63160c4",
   "metadata": {
    "papermill": {
     "duration": 0.007778,
     "end_time": "2023-11-24T16:52:31.411314",
     "exception": false,
     "start_time": "2023-11-24T16:52:31.403536",
     "status": "completed"
    },
    "tags": []
   },
   "source": [
    "# Exercises\n",
    "\n",
    "View the first several lines of your data by running the cell below:"
   ]
  },
  {
   "cell_type": "code",
   "execution_count": 2,
   "id": "54d3ca96",
   "metadata": {
    "execution": {
     "iopub.execute_input": "2023-11-24T16:52:31.428691Z",
     "iopub.status.busy": "2023-11-24T16:52:31.428150Z",
     "iopub.status.idle": "2023-11-24T16:52:31.456822Z",
     "shell.execute_reply": "2023-11-24T16:52:31.455085Z"
    },
    "papermill": {
     "duration": 0.041746,
     "end_time": "2023-11-24T16:52:31.460615",
     "exception": false,
     "start_time": "2023-11-24T16:52:31.418869",
     "status": "completed"
    },
    "tags": []
   },
   "outputs": [
    {
     "data": {
      "text/html": [
       "<div>\n",
       "<style scoped>\n",
       "    .dataframe tbody tr th:only-of-type {\n",
       "        vertical-align: middle;\n",
       "    }\n",
       "\n",
       "    .dataframe tbody tr th {\n",
       "        vertical-align: top;\n",
       "    }\n",
       "\n",
       "    .dataframe thead th {\n",
       "        text-align: right;\n",
       "    }\n",
       "</style>\n",
       "<table border=\"1\" class=\"dataframe\">\n",
       "  <thead>\n",
       "    <tr style=\"text-align: right;\">\n",
       "      <th></th>\n",
       "      <th>country</th>\n",
       "      <th>description</th>\n",
       "      <th>designation</th>\n",
       "      <th>points</th>\n",
       "      <th>price</th>\n",
       "      <th>province</th>\n",
       "      <th>region_1</th>\n",
       "      <th>region_2</th>\n",
       "      <th>taster_name</th>\n",
       "      <th>taster_twitter_handle</th>\n",
       "      <th>title</th>\n",
       "      <th>variety</th>\n",
       "      <th>winery</th>\n",
       "    </tr>\n",
       "  </thead>\n",
       "  <tbody>\n",
       "    <tr>\n",
       "      <th>0</th>\n",
       "      <td>Italy</td>\n",
       "      <td>Aromas include tropical fruit, broom, brimston...</td>\n",
       "      <td>Vulkà Bianco</td>\n",
       "      <td>87</td>\n",
       "      <td>NaN</td>\n",
       "      <td>Sicily &amp; Sardinia</td>\n",
       "      <td>Etna</td>\n",
       "      <td>NaN</td>\n",
       "      <td>Kerin O’Keefe</td>\n",
       "      <td>@kerinokeefe</td>\n",
       "      <td>Nicosia 2013 Vulkà Bianco  (Etna)</td>\n",
       "      <td>White Blend</td>\n",
       "      <td>Nicosia</td>\n",
       "    </tr>\n",
       "    <tr>\n",
       "      <th>1</th>\n",
       "      <td>Portugal</td>\n",
       "      <td>This is ripe and fruity, a wine that is smooth...</td>\n",
       "      <td>Avidagos</td>\n",
       "      <td>87</td>\n",
       "      <td>15.0</td>\n",
       "      <td>Douro</td>\n",
       "      <td>NaN</td>\n",
       "      <td>NaN</td>\n",
       "      <td>Roger Voss</td>\n",
       "      <td>@vossroger</td>\n",
       "      <td>Quinta dos Avidagos 2011 Avidagos Red (Douro)</td>\n",
       "      <td>Portuguese Red</td>\n",
       "      <td>Quinta dos Avidagos</td>\n",
       "    </tr>\n",
       "    <tr>\n",
       "      <th>2</th>\n",
       "      <td>US</td>\n",
       "      <td>Tart and snappy, the flavors of lime flesh and...</td>\n",
       "      <td>NaN</td>\n",
       "      <td>87</td>\n",
       "      <td>14.0</td>\n",
       "      <td>Oregon</td>\n",
       "      <td>Willamette Valley</td>\n",
       "      <td>Willamette Valley</td>\n",
       "      <td>Paul Gregutt</td>\n",
       "      <td>@paulgwine</td>\n",
       "      <td>Rainstorm 2013 Pinot Gris (Willamette Valley)</td>\n",
       "      <td>Pinot Gris</td>\n",
       "      <td>Rainstorm</td>\n",
       "    </tr>\n",
       "  </tbody>\n",
       "</table>\n",
       "</div>"
      ],
      "text/plain": [
       "    country                                        description   designation  \\\n",
       "0     Italy  Aromas include tropical fruit, broom, brimston...  Vulkà Bianco   \n",
       "1  Portugal  This is ripe and fruity, a wine that is smooth...      Avidagos   \n",
       "2        US  Tart and snappy, the flavors of lime flesh and...           NaN   \n",
       "\n",
       "   points  price           province           region_1           region_2  \\\n",
       "0      87    NaN  Sicily & Sardinia               Etna                NaN   \n",
       "1      87   15.0              Douro                NaN                NaN   \n",
       "2      87   14.0             Oregon  Willamette Valley  Willamette Valley   \n",
       "\n",
       "     taster_name taster_twitter_handle  \\\n",
       "0  Kerin O’Keefe          @kerinokeefe   \n",
       "1     Roger Voss            @vossroger   \n",
       "2   Paul Gregutt           @paulgwine    \n",
       "\n",
       "                                           title         variety  \\\n",
       "0              Nicosia 2013 Vulkà Bianco  (Etna)     White Blend   \n",
       "1  Quinta dos Avidagos 2011 Avidagos Red (Douro)  Portuguese Red   \n",
       "2  Rainstorm 2013 Pinot Gris (Willamette Valley)      Pinot Gris   \n",
       "\n",
       "                winery  \n",
       "0              Nicosia  \n",
       "1  Quinta dos Avidagos  \n",
       "2            Rainstorm  "
      ]
     },
     "execution_count": 2,
     "metadata": {},
     "output_type": "execute_result"
    }
   ],
   "source": [
    "reviews.head(3)"
   ]
  },
  {
   "cell_type": "markdown",
   "id": "9295a3d1",
   "metadata": {
    "papermill": {
     "duration": 0.009529,
     "end_time": "2023-11-24T16:52:31.481583",
     "exception": false,
     "start_time": "2023-11-24T16:52:31.472054",
     "status": "completed"
    },
    "tags": []
   },
   "source": [
    "## 1.\n",
    "`region_1` and `region_2` are pretty uninformative names for locale columns in the dataset. Create a copy of `reviews` with these columns renamed to `region` and `locale`, respectively."
   ]
  },
  {
   "cell_type": "code",
   "execution_count": 3,
   "id": "66cd2e5c",
   "metadata": {
    "execution": {
     "iopub.execute_input": "2023-11-24T16:52:31.501256Z",
     "iopub.status.busy": "2023-11-24T16:52:31.500754Z",
     "iopub.status.idle": "2023-11-24T16:52:31.531913Z",
     "shell.execute_reply": "2023-11-24T16:52:31.531024Z"
    },
    "papermill": {
     "duration": 0.043657,
     "end_time": "2023-11-24T16:52:31.534121",
     "exception": false,
     "start_time": "2023-11-24T16:52:31.490464",
     "status": "completed"
    },
    "tags": []
   },
   "outputs": [
    {
     "data": {
      "application/javascript": [
       "parent.postMessage({\"jupyterEvent\": \"custom.exercise_interaction\", \"data\": {\"outcomeType\": 1, \"valueTowardsCompletion\": 0.25, \"interactionType\": 1, \"questionType\": 1, \"questionId\": \"1_RenameCols\", \"learnToolsVersion\": \"0.3.4\", \"failureMessage\": \"\", \"exceptionClass\": \"\", \"trace\": \"\"}}, \"*\")"
      ],
      "text/plain": [
       "<IPython.core.display.Javascript object>"
      ]
     },
     "metadata": {},
     "output_type": "display_data"
    },
    {
     "data": {
      "text/markdown": [
       "<span style=\"color:#33cc33\">Correct</span>"
      ],
      "text/plain": [
       "Correct"
      ]
     },
     "metadata": {},
     "output_type": "display_data"
    }
   ],
   "source": [
    "# Your code here\n",
    "renamed = reviews.rename({\"region_1\":\"region\", \"region_2\":\"locale\"}, axis=1)\n",
    "\n",
    "# Check your answer\n",
    "q1.check()"
   ]
  },
  {
   "cell_type": "code",
   "execution_count": 4,
   "id": "864b5ddb",
   "metadata": {
    "execution": {
     "iopub.execute_input": "2023-11-24T16:52:31.553193Z",
     "iopub.status.busy": "2023-11-24T16:52:31.552779Z",
     "iopub.status.idle": "2023-11-24T16:52:31.557002Z",
     "shell.execute_reply": "2023-11-24T16:52:31.556195Z"
    },
    "papermill": {
     "duration": 0.016629,
     "end_time": "2023-11-24T16:52:31.559509",
     "exception": false,
     "start_time": "2023-11-24T16:52:31.542880",
     "status": "completed"
    },
    "tags": []
   },
   "outputs": [],
   "source": [
    "#q1.hint()\n",
    "#q1.solution()"
   ]
  },
  {
   "cell_type": "markdown",
   "id": "4ab15332",
   "metadata": {
    "papermill": {
     "duration": 0.008031,
     "end_time": "2023-11-24T16:52:31.576666",
     "exception": false,
     "start_time": "2023-11-24T16:52:31.568635",
     "status": "completed"
    },
    "tags": []
   },
   "source": [
    "## 2.\n",
    "Set the index name in the dataset to `wines`."
   ]
  },
  {
   "cell_type": "code",
   "execution_count": 5,
   "id": "ef5bc222",
   "metadata": {
    "execution": {
     "iopub.execute_input": "2023-11-24T16:52:31.595108Z",
     "iopub.status.busy": "2023-11-24T16:52:31.594672Z",
     "iopub.status.idle": "2023-11-24T16:52:31.617157Z",
     "shell.execute_reply": "2023-11-24T16:52:31.616117Z"
    },
    "papermill": {
     "duration": 0.034492,
     "end_time": "2023-11-24T16:52:31.619511",
     "exception": false,
     "start_time": "2023-11-24T16:52:31.585019",
     "status": "completed"
    },
    "tags": []
   },
   "outputs": [
    {
     "data": {
      "application/javascript": [
       "parent.postMessage({\"jupyterEvent\": \"custom.exercise_interaction\", \"data\": {\"outcomeType\": 1, \"valueTowardsCompletion\": 0.25, \"interactionType\": 1, \"questionType\": 1, \"questionId\": \"2_RenameIndex\", \"learnToolsVersion\": \"0.3.4\", \"failureMessage\": \"\", \"exceptionClass\": \"\", \"trace\": \"\"}}, \"*\")"
      ],
      "text/plain": [
       "<IPython.core.display.Javascript object>"
      ]
     },
     "metadata": {},
     "output_type": "display_data"
    },
    {
     "data": {
      "text/markdown": [
       "<span style=\"color:#33cc33\">Correct</span>"
      ],
      "text/plain": [
       "Correct"
      ]
     },
     "metadata": {},
     "output_type": "display_data"
    }
   ],
   "source": [
    "reindexed = reviews.rename_axis(\"wines\", axis=0)\n",
    "\n",
    "# Check your answer\n",
    "q2.check()"
   ]
  },
  {
   "cell_type": "code",
   "execution_count": 6,
   "id": "4be8b6de",
   "metadata": {
    "execution": {
     "iopub.execute_input": "2023-11-24T16:52:31.639947Z",
     "iopub.status.busy": "2023-11-24T16:52:31.638936Z",
     "iopub.status.idle": "2023-11-24T16:52:31.644147Z",
     "shell.execute_reply": "2023-11-24T16:52:31.642786Z"
    },
    "papermill": {
     "duration": 0.01829,
     "end_time": "2023-11-24T16:52:31.646472",
     "exception": false,
     "start_time": "2023-11-24T16:52:31.628182",
     "status": "completed"
    },
    "tags": []
   },
   "outputs": [],
   "source": [
    "#q2.hint()\n",
    "#q2.solution()"
   ]
  },
  {
   "cell_type": "markdown",
   "id": "b6baea7c",
   "metadata": {
    "papermill": {
     "duration": 0.008305,
     "end_time": "2023-11-24T16:52:31.663430",
     "exception": false,
     "start_time": "2023-11-24T16:52:31.655125",
     "status": "completed"
    },
    "tags": []
   },
   "source": [
    "## 3.\n",
    "The [Things on Reddit](https://www.kaggle.com/residentmario/things-on-reddit/data) dataset includes product links from a selection of top-ranked forums (\"subreddits\") on reddit.com. Run the cell below to load a dataframe of products mentioned on the */r/gaming* subreddit and another dataframe for products mentioned on the *r//movies* subreddit."
   ]
  },
  {
   "cell_type": "code",
   "execution_count": 7,
   "id": "e39739a5",
   "metadata": {
    "execution": {
     "iopub.execute_input": "2023-11-24T16:52:31.682440Z",
     "iopub.status.busy": "2023-11-24T16:52:31.681935Z",
     "iopub.status.idle": "2023-11-24T16:52:31.698801Z",
     "shell.execute_reply": "2023-11-24T16:52:31.697493Z"
    },
    "papermill": {
     "duration": 0.03007,
     "end_time": "2023-11-24T16:52:31.702116",
     "exception": false,
     "start_time": "2023-11-24T16:52:31.672046",
     "status": "completed"
    },
    "tags": []
   },
   "outputs": [],
   "source": [
    "gaming_products = pd.read_csv(\"../input/things-on-reddit/top-things/top-things/reddits/g/gaming.csv\")\n",
    "gaming_products['subreddit'] = \"r/gaming\"\n",
    "movie_products = pd.read_csv(\"../input/things-on-reddit/top-things/top-things/reddits/m/movies.csv\")\n",
    "movie_products['subreddit'] = \"r/movies\""
   ]
  },
  {
   "cell_type": "markdown",
   "id": "a3928e15",
   "metadata": {
    "papermill": {
     "duration": 0.009014,
     "end_time": "2023-11-24T16:52:31.720185",
     "exception": false,
     "start_time": "2023-11-24T16:52:31.711171",
     "status": "completed"
    },
    "tags": []
   },
   "source": [
    "Create a `DataFrame` of products mentioned on *either* subreddit."
   ]
  },
  {
   "cell_type": "code",
   "execution_count": 8,
   "id": "d9f3ea18",
   "metadata": {
    "execution": {
     "iopub.execute_input": "2023-11-24T16:52:31.740570Z",
     "iopub.status.busy": "2023-11-24T16:52:31.739968Z",
     "iopub.status.idle": "2023-11-24T16:52:31.752356Z",
     "shell.execute_reply": "2023-11-24T16:52:31.751210Z"
    },
    "papermill": {
     "duration": 0.025377,
     "end_time": "2023-11-24T16:52:31.754833",
     "exception": false,
     "start_time": "2023-11-24T16:52:31.729456",
     "status": "completed"
    },
    "tags": []
   },
   "outputs": [
    {
     "data": {
      "application/javascript": [
       "parent.postMessage({\"jupyterEvent\": \"custom.exercise_interaction\", \"data\": {\"outcomeType\": 1, \"valueTowardsCompletion\": 0.25, \"interactionType\": 1, \"questionType\": 2, \"questionId\": \"3_ConcatReddit\", \"learnToolsVersion\": \"0.3.4\", \"failureMessage\": \"\", \"exceptionClass\": \"\", \"trace\": \"\"}}, \"*\")"
      ],
      "text/plain": [
       "<IPython.core.display.Javascript object>"
      ]
     },
     "metadata": {},
     "output_type": "display_data"
    },
    {
     "data": {
      "text/markdown": [
       "<span style=\"color:#33cc33\">Correct</span>"
      ],
      "text/plain": [
       "Correct"
      ]
     },
     "metadata": {},
     "output_type": "display_data"
    }
   ],
   "source": [
    "combined_products = pd.concat([gaming_products, movie_products])\n",
    "\n",
    "# Check your answer\n",
    "q3.check()"
   ]
  },
  {
   "cell_type": "code",
   "execution_count": 9,
   "id": "ef6f650d",
   "metadata": {
    "execution": {
     "iopub.execute_input": "2023-11-24T16:52:31.775252Z",
     "iopub.status.busy": "2023-11-24T16:52:31.774294Z",
     "iopub.status.idle": "2023-11-24T16:52:31.779379Z",
     "shell.execute_reply": "2023-11-24T16:52:31.778332Z"
    },
    "papermill": {
     "duration": 0.018238,
     "end_time": "2023-11-24T16:52:31.782274",
     "exception": false,
     "start_time": "2023-11-24T16:52:31.764036",
     "status": "completed"
    },
    "tags": []
   },
   "outputs": [],
   "source": [
    "#q3.hint()\n",
    "#q3.solution()"
   ]
  },
  {
   "cell_type": "markdown",
   "id": "002e1e04",
   "metadata": {
    "papermill": {
     "duration": 0.009145,
     "end_time": "2023-11-24T16:52:31.800512",
     "exception": false,
     "start_time": "2023-11-24T16:52:31.791367",
     "status": "completed"
    },
    "tags": []
   },
   "source": [
    "## 4.\n",
    "The [Powerlifting Database](https://www.kaggle.com/open-powerlifting/powerlifting-database) dataset on Kaggle includes one CSV table for powerlifting meets and a separate one for powerlifting competitors. Run the cell below to load these datasets into dataframes:"
   ]
  },
  {
   "cell_type": "code",
   "execution_count": 10,
   "id": "ccd626cc",
   "metadata": {
    "execution": {
     "iopub.execute_input": "2023-11-24T16:52:31.820749Z",
     "iopub.status.busy": "2023-11-24T16:52:31.820339Z",
     "iopub.status.idle": "2023-11-24T16:52:32.828330Z",
     "shell.execute_reply": "2023-11-24T16:52:32.826891Z"
    },
    "papermill": {
     "duration": 1.021536,
     "end_time": "2023-11-24T16:52:32.831326",
     "exception": false,
     "start_time": "2023-11-24T16:52:31.809790",
     "status": "completed"
    },
    "tags": []
   },
   "outputs": [],
   "source": [
    "powerlifting_meets = pd.read_csv(\"../input/powerlifting-database/meets.csv\")\n",
    "powerlifting_competitors = pd.read_csv(\"../input/powerlifting-database/openpowerlifting.csv\")"
   ]
  },
  {
   "cell_type": "markdown",
   "id": "5944644a",
   "metadata": {
    "papermill": {
     "duration": 0.008874,
     "end_time": "2023-11-24T16:52:32.849479",
     "exception": false,
     "start_time": "2023-11-24T16:52:32.840605",
     "status": "completed"
    },
    "tags": []
   },
   "source": [
    "Both tables include references to a `MeetID`, a unique key for each meet (competition) included in the database. Using this, generate a dataset combining the two tables into one."
   ]
  },
  {
   "cell_type": "code",
   "execution_count": 11,
   "id": "522771f6",
   "metadata": {
    "execution": {
     "iopub.execute_input": "2023-11-24T16:52:32.870871Z",
     "iopub.status.busy": "2023-11-24T16:52:32.870388Z",
     "iopub.status.idle": "2023-11-24T16:52:33.941361Z",
     "shell.execute_reply": "2023-11-24T16:52:33.940170Z"
    },
    "papermill": {
     "duration": 1.084455,
     "end_time": "2023-11-24T16:52:33.944022",
     "exception": false,
     "start_time": "2023-11-24T16:52:32.859567",
     "status": "completed"
    },
    "tags": []
   },
   "outputs": [
    {
     "data": {
      "application/javascript": [
       "parent.postMessage({\"jupyterEvent\": \"custom.exercise_interaction\", \"data\": {\"outcomeType\": 1, \"valueTowardsCompletion\": 0.25, \"interactionType\": 1, \"questionType\": 2, \"questionId\": \"4_JoinLifting\", \"learnToolsVersion\": \"0.3.4\", \"failureMessage\": \"\", \"exceptionClass\": \"\", \"trace\": \"\"}}, \"*\")"
      ],
      "text/plain": [
       "<IPython.core.display.Javascript object>"
      ]
     },
     "metadata": {},
     "output_type": "display_data"
    },
    {
     "data": {
      "text/markdown": [
       "<span style=\"color:#33cc33\">Correct</span>"
      ],
      "text/plain": [
       "Correct"
      ]
     },
     "metadata": {},
     "output_type": "display_data"
    }
   ],
   "source": [
    "powerlifting_combined = powerlifting_meets.set_index(\"MeetID\").join(powerlifting_competitors.set_index(\"MeetID\"))\n",
    "# Check your answer\n",
    "q4.check()"
   ]
  },
  {
   "cell_type": "code",
   "execution_count": 12,
   "id": "b7931873",
   "metadata": {
    "execution": {
     "iopub.execute_input": "2023-11-24T16:52:33.964679Z",
     "iopub.status.busy": "2023-11-24T16:52:33.963863Z",
     "iopub.status.idle": "2023-11-24T16:52:33.968882Z",
     "shell.execute_reply": "2023-11-24T16:52:33.967709Z"
    },
    "papermill": {
     "duration": 0.017787,
     "end_time": "2023-11-24T16:52:33.971079",
     "exception": false,
     "start_time": "2023-11-24T16:52:33.953292",
     "status": "completed"
    },
    "tags": []
   },
   "outputs": [],
   "source": [
    "#q4.hint()\n",
    "#q4.solution()"
   ]
  },
  {
   "cell_type": "markdown",
   "id": "23c34ceb",
   "metadata": {
    "papermill": {
     "duration": 0.009548,
     "end_time": "2023-11-24T16:52:33.990203",
     "exception": false,
     "start_time": "2023-11-24T16:52:33.980655",
     "status": "completed"
    },
    "tags": []
   },
   "source": [
    "# Congratulations!\n",
    "\n",
    "You've finished the Pandas micro-course.  Many data scientists feel efficiency with Pandas is the most useful and practical skill they have, because it allows you to progress quickly in any project you have.\n",
    "\n",
    "If you'd like to apply your new skills to examining geospatial data, you're encouraged to check out our **[Geospatial Analysis](https://www.kaggle.com/learn/geospatial-analysis)** micro-course.\n",
    "\n",
    "You can also take advantage of your Pandas skills by entering a **[Kaggle Competition](https://www.kaggle.com/competitions)** or by answering a question you find interesting using **[Kaggle Datasets](https://www.kaggle.com/datasets)**."
   ]
  },
  {
   "cell_type": "markdown",
   "id": "4dab1a46",
   "metadata": {
    "papermill": {
     "duration": 0.009404,
     "end_time": "2023-11-24T16:52:34.008929",
     "exception": false,
     "start_time": "2023-11-24T16:52:33.999525",
     "status": "completed"
    },
    "tags": []
   },
   "source": [
    "---\n",
    "\n",
    "\n",
    "\n",
    "\n",
    "*Have questions or comments? Visit the [course discussion forum](https://www.kaggle.com/learn/pandas/discussion) to chat with other learners.*"
   ]
  }
 ],
 "metadata": {
  "kaggle": {
   "accelerator": "none",
   "dataSources": [
    {
     "datasetId": 655,
     "sourceId": 1252,
     "sourceType": "datasetVersion"
    },
    {
     "datasetId": 2321,
     "sourceId": 3919,
     "sourceType": "datasetVersion"
    },
    {
     "datasetId": 2894,
     "sourceId": 4877,
     "sourceType": "datasetVersion"
    },
    {
     "datasetId": 3491,
     "sourceId": 5624,
     "sourceType": "datasetVersion"
    },
    {
     "datasetId": 1442,
     "sourceId": 8172,
     "sourceType": "datasetVersion"
    },
    {
     "datasetId": 9366,
     "sourceId": 13206,
     "sourceType": "datasetVersion"
    },
    {
     "datasetId": 179555,
     "sourceId": 403916,
     "sourceType": "datasetVersion"
    },
    {
     "datasetId": 4549,
     "sourceId": 466349,
     "sourceType": "datasetVersion"
    },
    {
     "datasetId": 2478,
     "sourceId": 1151655,
     "sourceType": "datasetVersion"
    },
    {
     "datasetId": 10128,
     "sourceId": 5438389,
     "sourceType": "datasetVersion"
    }
   ],
   "isGpuEnabled": false,
   "isInternetEnabled": false,
   "language": "python",
   "sourceType": "notebook"
  },
  "kernelspec": {
   "display_name": "Python 3",
   "language": "python",
   "name": "python3"
  },
  "language_info": {
   "codemirror_mode": {
    "name": "ipython",
    "version": 3
   },
   "file_extension": ".py",
   "mimetype": "text/x-python",
   "name": "python",
   "nbconvert_exporter": "python",
   "pygments_lexer": "ipython3",
   "version": "3.10.12"
  },
  "papermill": {
   "default_parameters": {},
   "duration": 12.016622,
   "end_time": "2023-11-24T16:52:34.639703",
   "environment_variables": {},
   "exception": null,
   "input_path": "__notebook__.ipynb",
   "output_path": "__notebook__.ipynb",
   "parameters": {},
   "start_time": "2023-11-24T16:52:22.623081",
   "version": "2.4.0"
  }
 },
 "nbformat": 4,
 "nbformat_minor": 5
}
